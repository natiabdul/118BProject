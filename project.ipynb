{
 "cells": [
  {
   "cell_type": "markdown",
   "metadata": {},
   "source": [
    "# COGS 118B - Final Project"
   ]
  },
  {
   "cell_type": "markdown",
   "metadata": {},
   "source": [
    "## Book Recommendation System"
   ]
  },
  {
   "cell_type": "markdown",
   "metadata": {},
   "source": [
    "### Group members"
   ]
  },
  {
   "cell_type": "markdown",
   "metadata": {},
   "source": [
    "- Natalia Abdulmawla\n",
    "- Aarya Patel\n",
    "- Brian Lee\n",
    "- Holden Ly\n",
    "- Yanxiong Chen"
   ]
  },
  {
   "cell_type": "markdown",
   "metadata": {},
   "source": [
    "### Abstract"
   ]
  },
  {
   "cell_type": "markdown",
   "metadata": {},
   "source": [
    "The goal of our project was to explore the book-crossing dataset and build a reccomendation system for books based on the dataset. The dataset contains a total of 8 different features, with 1,149,780 ratings of 271,379 books measured on a scale of 1 to 10 by 278,858 reviewers. To build this system we sought to use various unsupervised learning techniques such as k-means clustering and principal component analysis to find what optimally works with our dataset while exploring the dataset and find underlying patterns within the data. This allowed us to recommend books by using the similarities between user preferences. Subsequently we attempted to evaluate the performance of the algorithm. Through this project we aimed to demonstrate the challenges in providing personalized book recommendations based on a person's interests using the books and their given features. "
   ]
  },
  {
   "cell_type": "markdown",
   "metadata": {},
   "source": [
    "### Background"
   ]
  },
  {
   "cell_type": "markdown",
   "metadata": {},
   "source": [
    "Recent decades has seen an an explosion of all kinds of content, from literature to music to fashion trends, particularly by the increasing ease of access to the internet. By the nature of the global marketplace the volume of options for a user to choose from can be overwhelming. This has let to people having to deal with the challenge of making informed decisions on the content they want to consume. This has led to the rise in the use of recommendation systems that personalize choices based on a user's preferences and behaviors to alleviate this burden placed on people <a name=\"rs\"></a>[<sup>[2]</sup>](#rsnote). Recommendation systems have become far reaching in our digital lives due to their practical applications in fields such as e-commerce, entertainment, or social media in enhancing user experience and satisfaction <a name=\"icwww\"></a>[<sup>[3]</sup>](#icwwwnote). In order to provide personalized choices these systems leverage machine learning algorithms to predict a user's preferences to provide recommendations. \n",
    "\n",
    "Research into recommendation systems have explored various approaches to address the challenge of providing the most accurate personalized recommendations to users. Collaborative filtering is one of the most popular techniques. By identifying patterns by examining the interactions between users and items, users with similar tastes are grouped together thus enabling personalized recommendations of items based on the preferences of a group of users. Another popular technique is content-based filtering, utilizing the characteristics of an item to identify and recommend items that align with a user's preferences. Machine learning techniques such as k-means clustering and principal component analysis, among many others, have also been of great use into building and improving recommendation systems by enabling researchers to identify meaningful patterns from large datasets.\n",
    "\n",
    "Book recommendations are one application of these recommendation systems, frequently used by book-oriented platforms such as Goodreads with the goal to be to assist a user in discovering books that align with their preferences and interests. Subsequently, these platforms have accumulated large amounts of data related to user preferences and behaviors which are then used to continously improve the performance and accuracy of recommendation system they use in their platforms <a name=\"bx\"></a>[<sup>[1]</sup>](#bxnote).\n",
    "\n",
    "Our project of developing a basic personalized book recommendation system focuses on leveraging the Book-Crossing dataset, a collection of user ratings and book information. Compiled by Cai-Nicolas Ziegler of the Institute for Information Systems, the Book-Crossing dataset comprises 1,149,780 ratings (on a scale of 1-10 stars) of 271,379 books provided by 278,858 reviewers, making it a valuable dataset for exploring user preferences and behaviors. It provides a comprehensive view of user preferences towards different books, giving us a solid groundwork for the development of a recommendation system.\n",
    "\n",
    "Through our project we seek to build upon the existing research by employing unsupervised learning techniques to uncover hidden patterns within the Book-Crossing dataset. By groping reviewers and books based on their ratings and other features, we seek to have a deeper understanding of user preferences towards books and their characteristics, along with a deeper understanding of the unsupervised learning techniques which are used in building a recommendation system and their real world applications. "
   ]
  },
  {
   "cell_type": "markdown",
   "metadata": {},
   "source": [
    "### Problem Statement"
   ]
  },
  {
   "cell_type": "markdown",
   "metadata": {},
   "source": [
    "The goal of our project is to develop a book recommendation system using the Book-Crossing dataset. The dataset represents a large collection of user-book interactions, including ratings provided by users for various books. By utilizing the 1.1 million ratings of 271,379 books by 278,858 reviewers and applying various unsupervised learning techniques, we seek to create a personalized book recommendation system.\n",
    "\n",
    "The challenge that comes in doing this is properly applying the techniques onto the vast amount of data available to us in the dataset. To overcome this challenge we first explore the data to identify patterns and similarities among the books, the reviewers, and their ratings. In doing a basic exploration we see how we must clean and preprocess the data, by handling missing values and outliers, and ensuring consistency in the data, making it easier to apply machine learning techniques on the data. This problem and the solution can be reproduced by applying the same methodology of data preprocessing, feature engineering, and model building to a similar dataset, enabling someone to create a similar recommendation system for a different domain such as music or e-commerce.\n"
   ]
  },
  {
   "cell_type": "markdown",
   "metadata": {},
   "source": [
    "### Data"
   ]
  },
  {
   "cell_type": "markdown",
   "metadata": {},
   "source": [
    "In order to build our recommendation system we needed to find a dataset with the appropriate information. We found a dataset from the following source, https://web.archive.org/web/20200511092532/http://www2.informatik.uni-freiburg.de/~cziegler/BX/. This consists of three different datasets:\n",
    "\n",
    "**Books.csv** with 271379 observations and 5 features: a unique numerical identifier for each book under the column **'ISBN'**, the title of a book under the column **'Title'**, the author of a book under the column **'Author'**, the numerical year a book was published under the column **'Year'**, and the name of a publisher that a book is released under the column **'Publisher'**. Each observation represents a published book and some of the information which describes that book. \n",
    "\n",
    "**Ratings.csv** with 1149780 observations and 3 features: a unique numerical identifier for each reviewer which provides anonimity under the column **'User-ID'**, a nuique numerical identifier for each book being rated under the column **'ISBN'**, and the representation of the ratings given by reviewers to the books on a range of 1-10, under the column **'Rating'**. Each observation represents a rating given by a reviewer to a book. \n",
    "\n",
    "**Users.csv** with 278859 observations and 2 features: a unique identifier for each reviewer under the column **'User-ID'**, and the age of the reviewer under the column **'Age'**. Each observation represents a unique anonimized reviewer and their personal information.\n",
    "\n",
    "Before being able to use the data we had to do a basic exploratory data analysis to see some information and patterns within the data. This allowed us to find out how we had to clean the data to make it usable. For example, in the Users dataset there were many missing ages for reviewers and outlier ages which were not logical, such as 130+ or under 5 years old. We handled these by replacing them with the mean age of the reviewers. We also did some filtering of the data which were not necessary and would affect our results or computation time, such as including only including ratings of books which are found in our books dataset. Other tasks we did to clean and preprocess the data include renaming columsn to make them easier to use, converting data types and encoding data, and dropping any duplicates. "
   ]
  },
  {
   "cell_type": "markdown",
   "metadata": {},
   "source": [
    "### Proposed solution"
   ]
  },
  {
   "cell_type": "markdown",
   "metadata": {},
   "source": [
    "To develop a book recommendation system using the Book-Crossing dataset, we will employ unsupervised learning techniques such as k-means clustering and gaussian mixture models using libraries such as scikit-learn and scipy. This gives us a larger insight into the patterns in the data that we cannot see using simpler methods of visualizing the data. Should we discover that these techniques will not be the most appropriate to use in our data we will consider more traditional techniques used in the creation of a recommendation system such as content-based filtering or collaborative filtering. The approach of particular interest is collaborative filtering, allowing us to use the patterns in user-item interactions to identify reviewers with similar preferences and subsequently recommend items liked by those reviewers. This process is done by calculating user similarity through measures of similarity such as consine similarity. By using a similar methodology of exploring and preprocessing a similar dataset then applying the appropriate algorithms our solution is entirely reproducible by another person interested in developing a recommendation system."
   ]
  },
  {
   "cell_type": "markdown",
   "metadata": {},
   "source": [
    "## Exploratory Data Analysis"
   ]
  },
  {
   "cell_type": "markdown",
   "metadata": {},
   "source": [
    "### Importing libraries"
   ]
  },
  {
   "cell_type": "code",
   "execution_count": 1,
   "metadata": {},
   "outputs": [],
   "source": [
    "import numpy as np\n",
    "import pandas as pd\n",
    "import matplotlib.pyplot as plt\n",
    "import seaborn as sns\n",
    "from sklearn.cluster import KMeans\n",
    "from sklearn.mixture import GaussianMixture\n",
    "from scipy.sparse import csr_matrix\n",
    "from sklearn.metrics.pairwise import cosine_similarity\n",
    "from sklearn.decomposition import PCA"
   ]
  },
  {
   "cell_type": "markdown",
   "metadata": {},
   "source": [
    "### Reading Data"
   ]
  },
  {
   "cell_type": "code",
   "execution_count": 2,
   "metadata": {},
   "outputs": [
    {
     "name": "stderr",
     "output_type": "stream",
     "text": [
      "<ipython-input-2-361a5b60f0e0>:2: DtypeWarning: Columns (0) have mixed types. Specify dtype option on import or set low_memory=False.\n",
      "  users = pd.read_csv(\"Users.csv\", sep=\";\")\n"
     ]
    }
   ],
   "source": [
    "books = pd.read_csv(\"Books.csv\", sep=\";\")\n",
    "users = pd.read_csv(\"Users.csv\", sep=\";\")\n",
    "ratings = pd.read_csv(\"Ratings.csv\", sep=\";\")"
   ]
  },
  {
   "cell_type": "code",
   "execution_count": 3,
   "metadata": {},
   "outputs": [
    {
     "data": {
      "text/html": [
       "<div>\n",
       "<style scoped>\n",
       "    .dataframe tbody tr th:only-of-type {\n",
       "        vertical-align: middle;\n",
       "    }\n",
       "\n",
       "    .dataframe tbody tr th {\n",
       "        vertical-align: top;\n",
       "    }\n",
       "\n",
       "    .dataframe thead th {\n",
       "        text-align: right;\n",
       "    }\n",
       "</style>\n",
       "<table border=\"1\" class=\"dataframe\">\n",
       "  <thead>\n",
       "    <tr style=\"text-align: right;\">\n",
       "      <th></th>\n",
       "      <th>ISBN</th>\n",
       "      <th>Title</th>\n",
       "      <th>Author</th>\n",
       "      <th>Year</th>\n",
       "      <th>Publisher</th>\n",
       "    </tr>\n",
       "  </thead>\n",
       "  <tbody>\n",
       "    <tr>\n",
       "      <th>0</th>\n",
       "      <td>0195153448</td>\n",
       "      <td>Classical Mythology</td>\n",
       "      <td>Mark P. O. Morford</td>\n",
       "      <td>2002</td>\n",
       "      <td>Oxford University Press</td>\n",
       "    </tr>\n",
       "    <tr>\n",
       "      <th>1</th>\n",
       "      <td>0002005018</td>\n",
       "      <td>Clara Callan</td>\n",
       "      <td>Richard Bruce Wright</td>\n",
       "      <td>2001</td>\n",
       "      <td>HarperFlamingo Canada</td>\n",
       "    </tr>\n",
       "    <tr>\n",
       "      <th>2</th>\n",
       "      <td>0060973129</td>\n",
       "      <td>Decision in Normandy</td>\n",
       "      <td>Carlo D'Este</td>\n",
       "      <td>1991</td>\n",
       "      <td>HarperPerennial</td>\n",
       "    </tr>\n",
       "    <tr>\n",
       "      <th>3</th>\n",
       "      <td>0374157065</td>\n",
       "      <td>Flu: The Story of the Great Influenza Pandemic...</td>\n",
       "      <td>Gina Bari Kolata</td>\n",
       "      <td>1999</td>\n",
       "      <td>Farrar Straus Giroux</td>\n",
       "    </tr>\n",
       "    <tr>\n",
       "      <th>4</th>\n",
       "      <td>0393045218</td>\n",
       "      <td>The Mummies of Urumchi</td>\n",
       "      <td>E. J. W. Barber</td>\n",
       "      <td>1999</td>\n",
       "      <td>W. W. Norton &amp; Company</td>\n",
       "    </tr>\n",
       "  </tbody>\n",
       "</table>\n",
       "</div>"
      ],
      "text/plain": [
       "         ISBN                                              Title  \\\n",
       "0  0195153448                                Classical Mythology   \n",
       "1  0002005018                                       Clara Callan   \n",
       "2  0060973129                               Decision in Normandy   \n",
       "3  0374157065  Flu: The Story of the Great Influenza Pandemic...   \n",
       "4  0393045218                             The Mummies of Urumchi   \n",
       "\n",
       "                 Author  Year                Publisher  \n",
       "0    Mark P. O. Morford  2002  Oxford University Press  \n",
       "1  Richard Bruce Wright  2001    HarperFlamingo Canada  \n",
       "2          Carlo D'Este  1991          HarperPerennial  \n",
       "3      Gina Bari Kolata  1999     Farrar Straus Giroux  \n",
       "4       E. J. W. Barber  1999   W. W. Norton & Company  "
      ]
     },
     "metadata": {},
     "output_type": "display_data"
    },
    {
     "data": {
      "text/plain": [
       "(271379, 5)"
      ]
     },
     "execution_count": 3,
     "metadata": {},
     "output_type": "execute_result"
    }
   ],
   "source": [
    "# Viewing the first few points of the books dataset, and its original shape\n",
    "display(books.head())\n",
    "books.shape"
   ]
  },
  {
   "cell_type": "code",
   "execution_count": 4,
   "metadata": {},
   "outputs": [
    {
     "data": {
      "text/html": [
       "<div>\n",
       "<style scoped>\n",
       "    .dataframe tbody tr th:only-of-type {\n",
       "        vertical-align: middle;\n",
       "    }\n",
       "\n",
       "    .dataframe tbody tr th {\n",
       "        vertical-align: top;\n",
       "    }\n",
       "\n",
       "    .dataframe thead th {\n",
       "        text-align: right;\n",
       "    }\n",
       "</style>\n",
       "<table border=\"1\" class=\"dataframe\">\n",
       "  <thead>\n",
       "    <tr style=\"text-align: right;\">\n",
       "      <th></th>\n",
       "      <th>User-ID</th>\n",
       "      <th>Age</th>\n",
       "    </tr>\n",
       "  </thead>\n",
       "  <tbody>\n",
       "    <tr>\n",
       "      <th>0</th>\n",
       "      <td>1</td>\n",
       "      <td>NaN</td>\n",
       "    </tr>\n",
       "    <tr>\n",
       "      <th>1</th>\n",
       "      <td>2</td>\n",
       "      <td>18</td>\n",
       "    </tr>\n",
       "    <tr>\n",
       "      <th>2</th>\n",
       "      <td>3</td>\n",
       "      <td>NaN</td>\n",
       "    </tr>\n",
       "    <tr>\n",
       "      <th>3</th>\n",
       "      <td>4</td>\n",
       "      <td>17</td>\n",
       "    </tr>\n",
       "    <tr>\n",
       "      <th>4</th>\n",
       "      <td>5</td>\n",
       "      <td>NaN</td>\n",
       "    </tr>\n",
       "  </tbody>\n",
       "</table>\n",
       "</div>"
      ],
      "text/plain": [
       "  User-ID  Age\n",
       "0       1  NaN\n",
       "1       2   18\n",
       "2       3  NaN\n",
       "3       4   17\n",
       "4       5  NaN"
      ]
     },
     "metadata": {},
     "output_type": "display_data"
    },
    {
     "data": {
      "text/plain": [
       "(278859, 2)"
      ]
     },
     "execution_count": 4,
     "metadata": {},
     "output_type": "execute_result"
    }
   ],
   "source": [
    "# Viewing the first few points of the users dataset, and its original shape\n",
    "display(users.head())\n",
    "users.shape"
   ]
  },
  {
   "cell_type": "code",
   "execution_count": 5,
   "metadata": {},
   "outputs": [
    {
     "data": {
      "text/html": [
       "<div>\n",
       "<style scoped>\n",
       "    .dataframe tbody tr th:only-of-type {\n",
       "        vertical-align: middle;\n",
       "    }\n",
       "\n",
       "    .dataframe tbody tr th {\n",
       "        vertical-align: top;\n",
       "    }\n",
       "\n",
       "    .dataframe thead th {\n",
       "        text-align: right;\n",
       "    }\n",
       "</style>\n",
       "<table border=\"1\" class=\"dataframe\">\n",
       "  <thead>\n",
       "    <tr style=\"text-align: right;\">\n",
       "      <th></th>\n",
       "      <th>User-ID</th>\n",
       "      <th>ISBN</th>\n",
       "      <th>Rating</th>\n",
       "    </tr>\n",
       "  </thead>\n",
       "  <tbody>\n",
       "    <tr>\n",
       "      <th>0</th>\n",
       "      <td>276725</td>\n",
       "      <td>034545104X</td>\n",
       "      <td>0</td>\n",
       "    </tr>\n",
       "    <tr>\n",
       "      <th>1</th>\n",
       "      <td>276726</td>\n",
       "      <td>0155061224</td>\n",
       "      <td>5</td>\n",
       "    </tr>\n",
       "    <tr>\n",
       "      <th>2</th>\n",
       "      <td>276727</td>\n",
       "      <td>0446520802</td>\n",
       "      <td>0</td>\n",
       "    </tr>\n",
       "    <tr>\n",
       "      <th>3</th>\n",
       "      <td>276729</td>\n",
       "      <td>052165615X</td>\n",
       "      <td>3</td>\n",
       "    </tr>\n",
       "    <tr>\n",
       "      <th>4</th>\n",
       "      <td>276729</td>\n",
       "      <td>0521795028</td>\n",
       "      <td>6</td>\n",
       "    </tr>\n",
       "  </tbody>\n",
       "</table>\n",
       "</div>"
      ],
      "text/plain": [
       "   User-ID        ISBN  Rating\n",
       "0   276725  034545104X       0\n",
       "1   276726  0155061224       5\n",
       "2   276727  0446520802       0\n",
       "3   276729  052165615X       3\n",
       "4   276729  0521795028       6"
      ]
     },
     "metadata": {},
     "output_type": "display_data"
    },
    {
     "data": {
      "text/plain": [
       "(1149780, 3)"
      ]
     },
     "execution_count": 5,
     "metadata": {},
     "output_type": "execute_result"
    }
   ],
   "source": [
    "# Viewing the first few points of the ratings dataset, and its original shape\n",
    "display(ratings.head())\n",
    "ratings.shape"
   ]
  },
  {
   "cell_type": "markdown",
   "metadata": {},
   "source": [
    "### Cleaning data"
   ]
  },
  {
   "cell_type": "code",
   "execution_count": 6,
   "metadata": {},
   "outputs": [],
   "source": [
    "# Rename 'User-ID' to 'UserID'\n",
    "users = users.rename(columns={'User-ID': 'UserID'})"
   ]
  },
  {
   "cell_type": "code",
   "execution_count": 7,
   "metadata": {},
   "outputs": [
    {
     "name": "stdout",
     "output_type": "stream",
     "text": [
      "Mean Age:  34.72840724853575\n",
      "Median Age:  32.0\n",
      "Standard Deviation of Age:  14.408645139788613\n"
     ]
    }
   ],
   "source": [
    "# Convert 'Ages' to numeric\n",
    "users['Age'] = pd.to_numeric(users['Age'], errors='coerce')\n",
    "\n",
    "# Calculate the mean, median, and standard deviation \n",
    "print(\"Mean Age: \", users['Age'].mean())\n",
    "print(\"Median Age: \", users['Age'].median())\n",
    "print(\"Standard Deviation of Age: \", users['Age'].std())"
   ]
  },
  {
   "cell_type": "code",
   "execution_count": 8,
   "metadata": {},
   "outputs": [
    {
     "data": {
      "image/png": "[encoded data removed]",
      "text/plain": [
       "<Figure size 720x360 with 1 Axes>"
      ]
     },
     "metadata": {
      "needs_background": "light"
     },
     "output_type": "display_data"
    }
   ],
   "source": [
    "# Plot a histogram of 'Ages' to help understand the distribution of ages and find a logical age range \n",
    "plt.figure(figsize=(10,5))\n",
    "sns.histplot(users['Age'], bins=30)\n",
    "plt.title('Distribution of User Age')\n",
    "plt.xlabel('Age')\n",
    "plt.ylabel('Count')\n",
    "plt.show()"
   ]
  },
  {
   "cell_type": "markdown",
   "metadata": {},
   "source": [
    "Looking at the plot, a reasonable range should be from 5 to 85"
   ]
  },
  {
   "cell_type": "code",
   "execution_count": 9,
   "metadata": {},
   "outputs": [],
   "source": [
    "# Clean 'Age' by removing and replacing NaN values and outliers such as < 5 and > 85 with the mean age\n",
    "users.loc[(users.Age > 85) | (users.Age < 5), 'Age'] = np.nan\n",
    "users['Age'] = users['Age'].fillna(users['Age'].mean())"
   ]
  },
  {
   "cell_type": "code",
   "execution_count": 10,
   "metadata": {},
   "outputs": [
    {
     "data": {
      "image/png": "[encoded data removed]",
      "text/plain": [
       "<Figure size 720x360 with 1 Axes>"
      ]
     },
     "metadata": {
      "needs_background": "light"
     },
     "output_type": "display_data"
    }
   ],
   "source": [
    "# Plot histogram of ages after cleaning values\n",
    "plt.figure(figsize=(10,5))\n",
    "sns.histplot(users['Age'], bins=30)\n",
    "plt.title('Distribution of User Age')\n",
    "plt.xlabel('Age')\n",
    "plt.ylabel('Count')\n",
    "plt.show()"
   ]
  },
  {
   "cell_type": "code",
   "execution_count": 11,
   "metadata": {},
   "outputs": [],
   "source": [
    "# Rename 'User-ID' to 'UserID'\n",
    "ratings = ratings.rename(columns={'User-ID': 'UserID'})"
   ]
  },
  {
   "cell_type": "code",
   "execution_count": 12,
   "metadata": {},
   "outputs": [
    {
     "data": {
      "text/html": [
       "<div>\n",
       "<style scoped>\n",
       "    .dataframe tbody tr th:only-of-type {\n",
       "        vertical-align: middle;\n",
       "    }\n",
       "\n",
       "    .dataframe tbody tr th {\n",
       "        vertical-align: top;\n",
       "    }\n",
       "\n",
       "    .dataframe thead th {\n",
       "        text-align: right;\n",
       "    }\n",
       "</style>\n",
       "<table border=\"1\" class=\"dataframe\">\n",
       "  <thead>\n",
       "    <tr style=\"text-align: right;\">\n",
       "      <th></th>\n",
       "      <th>UserID</th>\n",
       "      <th>ISBN</th>\n",
       "      <th>Rating</th>\n",
       "    </tr>\n",
       "  </thead>\n",
       "  <tbody>\n",
       "    <tr>\n",
       "      <th>0</th>\n",
       "      <td>276725</td>\n",
       "      <td>034545104X</td>\n",
       "      <td>0</td>\n",
       "    </tr>\n",
       "    <tr>\n",
       "      <th>1</th>\n",
       "      <td>276726</td>\n",
       "      <td>0155061224</td>\n",
       "      <td>5</td>\n",
       "    </tr>\n",
       "    <tr>\n",
       "      <th>2</th>\n",
       "      <td>276727</td>\n",
       "      <td>0446520802</td>\n",
       "      <td>0</td>\n",
       "    </tr>\n",
       "    <tr>\n",
       "      <th>3</th>\n",
       "      <td>276729</td>\n",
       "      <td>052165615X</td>\n",
       "      <td>3</td>\n",
       "    </tr>\n",
       "    <tr>\n",
       "      <th>4</th>\n",
       "      <td>276729</td>\n",
       "      <td>0521795028</td>\n",
       "      <td>6</td>\n",
       "    </tr>\n",
       "  </tbody>\n",
       "</table>\n",
       "</div>"
      ],
      "text/plain": [
       "   UserID        ISBN  Rating\n",
       "0  276725  034545104X       0\n",
       "1  276726  0155061224       5\n",
       "2  276727  0446520802       0\n",
       "3  276729  052165615X       3\n",
       "4  276729  0521795028       6"
      ]
     },
     "metadata": {},
     "output_type": "display_data"
    },
    {
     "name": "stdout",
     "output_type": "stream",
     "text": [
      "(1149780, 3)\n"
     ]
    }
   ],
   "source": [
    "display(ratings.head())\n",
    "print(ratings.shape)"
   ]
  },
  {
   "cell_type": "code",
   "execution_count": 13,
   "metadata": {},
   "outputs": [
    {
     "name": "stdout",
     "output_type": "stream",
     "text": [
      "(1031175, 3)\n"
     ]
    }
   ],
   "source": [
    "# Filter 'ratings' dataset to only include rows where 'ISBN' is also found in the 'ISBN' in 'books' df\n",
    "ratings = ratings[ratings.ISBN.isin(books.ISBN)]\n",
    "print (ratings.shape)"
   ]
  },
  {
   "cell_type": "markdown",
   "metadata": {},
   "source": [
    "This will clean the dataset from any values which won't be of use for the recommendation system and speed up the algorithm by even the smallest bit."
   ]
  },
  {
   "cell_type": "code",
   "execution_count": 14,
   "metadata": {},
   "outputs": [
    {
     "data": {
      "image/png": "[encoded data removed]",
      "text/plain": [
       "<Figure size 720x360 with 1 Axes>"
      ]
     },
     "metadata": {
      "needs_background": "light"
     },
     "output_type": "display_data"
    }
   ],
   "source": [
    "# Distribution of Ratings\n",
    "plt.figure(figsize=(10,5))\n",
    "sns.countplot(x='Rating', data=ratings)\n",
    "plt.title('Distribution of Ratings')\n",
    "plt.xlabel('Rating')\n",
    "plt.ylabel('Count')\n",
    "plt.show()"
   ]
  },
  {
   "cell_type": "code",
   "execution_count": 15,
   "metadata": {},
   "outputs": [],
   "source": [
    "# Calculate mean rating and number of ratings for each book\n",
    "book_ratings = ratings.groupby('ISBN')['Rating'].agg(['count', 'mean'])\n",
    "\n",
    "# Rename the columns\n",
    "book_ratings.rename(columns={'count': 'rating_count', 'mean': 'avg_rating'}, inplace=True)\n",
    "\n",
    "# Merge this df with the 'books' DataFrame\n",
    "books = books.merge(book_ratings, on='ISBN', how='left')\n",
    "\n",
    "# Fill NaN values with 0\n",
    "books[['avg_rating', 'rating_count']] = books[['avg_rating', 'rating_count']].fillna(0)"
   ]
  },
  {
   "cell_type": "code",
   "execution_count": 16,
   "metadata": {},
   "outputs": [
    {
     "data": {
      "text/html": [
       "<div>\n",
       "<style scoped>\n",
       "    .dataframe tbody tr th:only-of-type {\n",
       "        vertical-align: middle;\n",
       "    }\n",
       "\n",
       "    .dataframe tbody tr th {\n",
       "        vertical-align: top;\n",
       "    }\n",
       "\n",
       "    .dataframe thead th {\n",
       "        text-align: right;\n",
       "    }\n",
       "</style>\n",
       "<table border=\"1\" class=\"dataframe\">\n",
       "  <thead>\n",
       "    <tr style=\"text-align: right;\">\n",
       "      <th></th>\n",
       "      <th>ISBN</th>\n",
       "      <th>Title</th>\n",
       "      <th>Author</th>\n",
       "      <th>Year</th>\n",
       "      <th>Publisher</th>\n",
       "      <th>rating_count</th>\n",
       "      <th>avg_rating</th>\n",
       "    </tr>\n",
       "  </thead>\n",
       "  <tbody>\n",
       "    <tr>\n",
       "      <th>5432</th>\n",
       "      <td>0439064864</td>\n",
       "      <td>Harry Potter and the Chamber of Secrets (Book 2)</td>\n",
       "      <td>J. K. Rowling</td>\n",
       "      <td>1999</td>\n",
       "      <td>Scholastic</td>\n",
       "      <td>170.0</td>\n",
       "      <td>6.611765</td>\n",
       "    </tr>\n",
       "    <tr>\n",
       "      <th>5431</th>\n",
       "      <td>0439139597</td>\n",
       "      <td>Harry Potter and the Goblet of Fire (Book 4)</td>\n",
       "      <td>J. K. Rowling</td>\n",
       "      <td>2000</td>\n",
       "      <td>Scholastic</td>\n",
       "      <td>194.0</td>\n",
       "      <td>6.541237</td>\n",
       "    </tr>\n",
       "    <tr>\n",
       "      <th>3839</th>\n",
       "      <td>0439136350</td>\n",
       "      <td>Harry Potter and the Prisoner of Azkaban (Book 3)</td>\n",
       "      <td>J. K. Rowling</td>\n",
       "      <td>1999</td>\n",
       "      <td>Scholastic</td>\n",
       "      <td>197.0</td>\n",
       "      <td>6.467005</td>\n",
       "    </tr>\n",
       "    <tr>\n",
       "      <th>2809</th>\n",
       "      <td>0590353403</td>\n",
       "      <td>Harry Potter and the Sorcerer's Stone (Book 1)</td>\n",
       "      <td>J. K. Rowling</td>\n",
       "      <td>1998</td>\n",
       "      <td>Scholastic</td>\n",
       "      <td>168.0</td>\n",
       "      <td>6.363095</td>\n",
       "    </tr>\n",
       "    <tr>\n",
       "      <th>5506</th>\n",
       "      <td>043935806X</td>\n",
       "      <td>Harry Potter and the Order of the Phoenix (Boo...</td>\n",
       "      <td>J. K. Rowling</td>\n",
       "      <td>2003</td>\n",
       "      <td>Scholastic</td>\n",
       "      <td>334.0</td>\n",
       "      <td>5.571856</td>\n",
       "    </tr>\n",
       "    <tr>\n",
       "      <th>6330</th>\n",
       "      <td>0439136369</td>\n",
       "      <td>Harry Potter and the Prisoner of Azkaban (Book 3)</td>\n",
       "      <td>J. K. Rowling</td>\n",
       "      <td>2001</td>\n",
       "      <td>Scholastic</td>\n",
       "      <td>226.0</td>\n",
       "      <td>5.345133</td>\n",
       "    </tr>\n",
       "    <tr>\n",
       "      <th>2232</th>\n",
       "      <td>0812550706</td>\n",
       "      <td>Ender's Game (Ender Wiggins Saga (Paperback))</td>\n",
       "      <td>Orson Scott Card</td>\n",
       "      <td>1994</td>\n",
       "      <td>Tor Books</td>\n",
       "      <td>195.0</td>\n",
       "      <td>5.302564</td>\n",
       "    </tr>\n",
       "    <tr>\n",
       "      <th>1150</th>\n",
       "      <td>0671027344</td>\n",
       "      <td>The Perks of Being a Wallflower</td>\n",
       "      <td>Stephen Chbosky</td>\n",
       "      <td>1999</td>\n",
       "      <td>MTV</td>\n",
       "      <td>103.0</td>\n",
       "      <td>5.194175</td>\n",
       "    </tr>\n",
       "    <tr>\n",
       "      <th>6933</th>\n",
       "      <td>0439139600</td>\n",
       "      <td>Harry Potter and the Goblet of Fire (Book 4)</td>\n",
       "      <td>J. K. Rowling</td>\n",
       "      <td>2002</td>\n",
       "      <td>Scholastic Paperbacks</td>\n",
       "      <td>193.0</td>\n",
       "      <td>5.103627</td>\n",
       "    </tr>\n",
       "    <tr>\n",
       "      <th>3354</th>\n",
       "      <td>0345339681</td>\n",
       "      <td>The Hobbit : The Enchanting Prelude to The Lor...</td>\n",
       "      <td>J.R.R. TOLKIEN</td>\n",
       "      <td>1986</td>\n",
       "      <td>Del Rey</td>\n",
       "      <td>281.0</td>\n",
       "      <td>5.007117</td>\n",
       "    </tr>\n",
       "  </tbody>\n",
       "</table>\n",
       "</div>"
      ],
      "text/plain": [
       "            ISBN                                              Title  \\\n",
       "5432  0439064864   Harry Potter and the Chamber of Secrets (Book 2)   \n",
       "5431  0439139597       Harry Potter and the Goblet of Fire (Book 4)   \n",
       "3839  0439136350  Harry Potter and the Prisoner of Azkaban (Book 3)   \n",
       "2809  0590353403     Harry Potter and the Sorcerer's Stone (Book 1)   \n",
       "5506  043935806X  Harry Potter and the Order of the Phoenix (Boo...   \n",
       "6330  0439136369  Harry Potter and the Prisoner of Azkaban (Book 3)   \n",
       "2232  0812550706      Ender's Game (Ender Wiggins Saga (Paperback))   \n",
       "1150  0671027344                    The Perks of Being a Wallflower   \n",
       "6933  0439139600       Harry Potter and the Goblet of Fire (Book 4)   \n",
       "3354  0345339681  The Hobbit : The Enchanting Prelude to The Lor...   \n",
       "\n",
       "                Author  Year              Publisher  rating_count  avg_rating  \n",
       "5432     J. K. Rowling  1999             Scholastic         170.0    6.611765  \n",
       "5431     J. K. Rowling  2000             Scholastic         194.0    6.541237  \n",
       "3839     J. K. Rowling  1999             Scholastic         197.0    6.467005  \n",
       "2809     J. K. Rowling  1998             Scholastic         168.0    6.363095  \n",
       "5506     J. K. Rowling  2003             Scholastic         334.0    5.571856  \n",
       "6330     J. K. Rowling  2001             Scholastic         226.0    5.345133  \n",
       "2232  Orson Scott Card  1994              Tor Books         195.0    5.302564  \n",
       "1150   Stephen Chbosky  1999                    MTV         103.0    5.194175  \n",
       "6933     J. K. Rowling  2002  Scholastic Paperbacks         193.0    5.103627  \n",
       "3354    J.R.R. TOLKIEN  1986                Del Rey         281.0    5.007117  "
      ]
     },
     "execution_count": 16,
     "metadata": {},
     "output_type": "execute_result"
    }
   ],
   "source": [
    "# Display top 10 books with the highest rating that have been rated more than 100 times\n",
    "books.loc[books[\"rating_count\"] > 100].sort_values(by=\"avg_rating\", ascending=False).head(10)"
   ]
  },
  {
   "cell_type": "code",
   "execution_count": 17,
   "metadata": {},
   "outputs": [
    {
     "data": {
      "text/html": [
       "<div>\n",
       "<style scoped>\n",
       "    .dataframe tbody tr th:only-of-type {\n",
       "        vertical-align: middle;\n",
       "    }\n",
       "\n",
       "    .dataframe tbody tr th {\n",
       "        vertical-align: top;\n",
       "    }\n",
       "\n",
       "    .dataframe thead th {\n",
       "        text-align: right;\n",
       "    }\n",
       "</style>\n",
       "<table border=\"1\" class=\"dataframe\">\n",
       "  <thead>\n",
       "    <tr style=\"text-align: right;\">\n",
       "      <th></th>\n",
       "      <th>ISBN</th>\n",
       "      <th>Title</th>\n",
       "      <th>Author</th>\n",
       "      <th>Year</th>\n",
       "      <th>Publisher</th>\n",
       "      <th>rating_count</th>\n",
       "      <th>avg_rating</th>\n",
       "    </tr>\n",
       "  </thead>\n",
       "  <tbody>\n",
       "    <tr>\n",
       "      <th>26</th>\n",
       "      <td>0971880107</td>\n",
       "      <td>Wild Animus</td>\n",
       "      <td>Rich Shapero</td>\n",
       "      <td>2004</td>\n",
       "      <td>Too Far</td>\n",
       "      <td>2502.0</td>\n",
       "      <td>1.019584</td>\n",
       "    </tr>\n",
       "    <tr>\n",
       "      <th>408</th>\n",
       "      <td>0316666343</td>\n",
       "      <td>The Lovely Bones: A Novel</td>\n",
       "      <td>Alice Sebold</td>\n",
       "      <td>2002</td>\n",
       "      <td>Little, Brown</td>\n",
       "      <td>1295.0</td>\n",
       "      <td>4.468726</td>\n",
       "    </tr>\n",
       "    <tr>\n",
       "      <th>748</th>\n",
       "      <td>0385504209</td>\n",
       "      <td>The Da Vinci Code</td>\n",
       "      <td>Dan Brown</td>\n",
       "      <td>2003</td>\n",
       "      <td>Doubleday</td>\n",
       "      <td>883.0</td>\n",
       "      <td>4.652322</td>\n",
       "    </tr>\n",
       "    <tr>\n",
       "      <th>1105</th>\n",
       "      <td>0060928336</td>\n",
       "      <td>Divine Secrets of the Ya-Ya Sisterhood: A Novel</td>\n",
       "      <td>Rebecca Wells</td>\n",
       "      <td>1997</td>\n",
       "      <td>Perennial</td>\n",
       "      <td>732.0</td>\n",
       "      <td>3.448087</td>\n",
       "    </tr>\n",
       "    <tr>\n",
       "      <th>522</th>\n",
       "      <td>0312195516</td>\n",
       "      <td>The Red Tent (Bestselling Backlist)</td>\n",
       "      <td>Anita Diamant</td>\n",
       "      <td>1998</td>\n",
       "      <td>Picador USA</td>\n",
       "      <td>723.0</td>\n",
       "      <td>4.334716</td>\n",
       "    </tr>\n",
       "    <tr>\n",
       "      <th>305</th>\n",
       "      <td>044023722X</td>\n",
       "      <td>A Painted House</td>\n",
       "      <td>John Grisham</td>\n",
       "      <td>2001</td>\n",
       "      <td>Dell Publishing Company</td>\n",
       "      <td>647.0</td>\n",
       "      <td>3.187017</td>\n",
       "    </tr>\n",
       "    <tr>\n",
       "      <th>356</th>\n",
       "      <td>0142001740</td>\n",
       "      <td>The Secret Life of Bees</td>\n",
       "      <td>Sue Monk Kidd</td>\n",
       "      <td>2003</td>\n",
       "      <td>Penguin Books</td>\n",
       "      <td>615.0</td>\n",
       "      <td>4.219512</td>\n",
       "    </tr>\n",
       "    <tr>\n",
       "      <th>1922</th>\n",
       "      <td>067976402X</td>\n",
       "      <td>Snow Falling on Cedars</td>\n",
       "      <td>David Guterson</td>\n",
       "      <td>1995</td>\n",
       "      <td>Vintage Books USA</td>\n",
       "      <td>614.0</td>\n",
       "      <td>3.255700</td>\n",
       "    </tr>\n",
       "    <tr>\n",
       "      <th>118</th>\n",
       "      <td>0671027360</td>\n",
       "      <td>Angels &amp; Demons</td>\n",
       "      <td>Dan Brown</td>\n",
       "      <td>2001</td>\n",
       "      <td>Pocket Star</td>\n",
       "      <td>586.0</td>\n",
       "      <td>3.718430</td>\n",
       "    </tr>\n",
       "    <tr>\n",
       "      <th>706</th>\n",
       "      <td>0446672211</td>\n",
       "      <td>Where the Heart Is (Oprah's Book Club (Paperba...</td>\n",
       "      <td>Billie Letts</td>\n",
       "      <td>1998</td>\n",
       "      <td>Warner Books</td>\n",
       "      <td>585.0</td>\n",
       "      <td>4.105983</td>\n",
       "    </tr>\n",
       "  </tbody>\n",
       "</table>\n",
       "</div>"
      ],
      "text/plain": [
       "            ISBN                                              Title  \\\n",
       "26    0971880107                                        Wild Animus   \n",
       "408   0316666343                          The Lovely Bones: A Novel   \n",
       "748   0385504209                                  The Da Vinci Code   \n",
       "1105  0060928336    Divine Secrets of the Ya-Ya Sisterhood: A Novel   \n",
       "522   0312195516                The Red Tent (Bestselling Backlist)   \n",
       "305   044023722X                                    A Painted House   \n",
       "356   0142001740                            The Secret Life of Bees   \n",
       "1922  067976402X                             Snow Falling on Cedars   \n",
       "118   0671027360                                    Angels & Demons   \n",
       "706   0446672211  Where the Heart Is (Oprah's Book Club (Paperba...   \n",
       "\n",
       "              Author  Year                Publisher  rating_count  avg_rating  \n",
       "26      Rich Shapero  2004                  Too Far        2502.0    1.019584  \n",
       "408     Alice Sebold  2002            Little, Brown        1295.0    4.468726  \n",
       "748        Dan Brown  2003                Doubleday         883.0    4.652322  \n",
       "1105   Rebecca Wells  1997                Perennial         732.0    3.448087  \n",
       "522    Anita Diamant  1998              Picador USA         723.0    4.334716  \n",
       "305     John Grisham  2001  Dell Publishing Company         647.0    3.187017  \n",
       "356    Sue Monk Kidd  2003            Penguin Books         615.0    4.219512  \n",
       "1922  David Guterson  1995        Vintage Books USA         614.0    3.255700  \n",
       "118        Dan Brown  2001              Pocket Star         586.0    3.718430  \n",
       "706     Billie Letts  1998             Warner Books         585.0    4.105983  "
      ]
     },
     "execution_count": 17,
     "metadata": {},
     "output_type": "execute_result"
    }
   ],
   "source": [
    "# Display top 10 books with the most ratings that have been rated more than 100 times\n",
    "books.loc[books[\"rating_count\"] > 100].sort_values(by=\"rating_count\", ascending=False).head(10)"
   ]
  },
  {
   "cell_type": "code",
   "execution_count": 18,
   "metadata": {},
   "outputs": [
    {
     "data": {
      "image/png": "[encoded data removed]",
      "text/plain": [
       "<Figure size 720x360 with 1 Axes>"
      ]
     },
     "metadata": {
      "needs_background": "light"
     },
     "output_type": "display_data"
    }
   ],
   "source": [
    "# Plot a histogram of average ratings\n",
    "plt.figure(figsize=(10,5))\n",
    "sns.histplot(books['avg_rating'], bins=30)\n",
    "plt.title('Distribution of Average Ratings')\n",
    "plt.xlabel('Average Rating')\n",
    "plt.ylabel('Count')\n",
    "plt.show()\n"
   ]
  },
  {
   "cell_type": "code",
   "execution_count": 19,
   "metadata": {},
   "outputs": [
    {
     "data": {
      "image/png": "[encoded data removed]",
      "text/plain": [
       "<Figure size 720x360 with 1 Axes>"
      ]
     },
     "metadata": {
      "needs_background": "light"
     },
     "output_type": "display_data"
    }
   ],
   "source": [
    "# Plot a histogram of rating counts\n",
    "plt.figure(figsize=(10,5))\n",
    "sns.histplot(books['rating_count'], bins=30)\n",
    "plt.title('Distribution of Rating Counts')\n",
    "plt.xlabel('Rating Count')\n",
    "plt.ylabel('Count')\n",
    "plt.show()\n"
   ]
  },
  {
   "cell_type": "markdown",
   "metadata": {},
   "source": [
    "## Data preprocessing"
   ]
  },
  {
   "cell_type": "code",
   "execution_count": 20,
   "metadata": {},
   "outputs": [
    {
     "name": "stdout",
     "output_type": "stream",
     "text": [
      "         UserID        ISBN  Rating\n",
      "0        276725  034545104X       0\n",
      "2        276727  0446520802       0\n",
      "8        276744  038550120X       7\n",
      "10       276746  0425115801       0\n",
      "11       276746  0449006522       0\n",
      "...         ...         ...     ...\n",
      "1149761  276704  0345386108       6\n",
      "1149767  276704  0446353957       0\n",
      "1149768  276704  0446605409       0\n",
      "1149771  276704  0743211383       7\n",
      "1149772  276704  080410526X       0\n",
      "\n",
      "[231876 rows x 3 columns]\n"
     ]
    }
   ],
   "source": [
    "# Get the ISBNs of books with more than 50 ratings\n",
    "isbn_rating_count = books[books[\"rating_count\"] > 50][\"ISBN\"]\n",
    "\n",
    "# Filter the 'ratings' dataset to include only these ISBNs\n",
    "filtered_ratings = ratings[ratings[\"ISBN\"].isin(isbn_rating_count)]\n",
    "\n",
    "# Drop duplicates\n",
    "book_matrix = filtered_ratings.drop_duplicates()\n",
    "\n",
    "# Display the new dataset\n",
    "print(book_matrix)\n"
   ]
  },
  {
   "cell_type": "code",
   "execution_count": 21,
   "metadata": {},
   "outputs": [
    {
     "name": "stderr",
     "output_type": "stream",
     "text": [
      "<ipython-input-21-5d1b527678fa>:6: SettingWithCopyWarning: \n",
      "A value is trying to be set on a copy of a slice from a DataFrame.\n",
      "Try using .loc[row_indexer,col_indexer] = value instead\n",
      "\n",
      "See the caveats in the documentation: https://pandas.pydata.org/pandas-docs/stable/user_guide/indexing.html#returning-a-view-versus-a-copy\n",
      "  df['Text'] = df['Title'] + \" by \" + df['Author'] + 'published by' + df['Publisher']\n",
      "c:\\Python38\\lib\\site-packages\\sklearn\\cluster\\_kmeans.py:1416: FutureWarning: The default value of `n_init` will change from 10 to 'auto' in 1.4. Set the value of `n_init` explicitly to suppress the warning\n",
      "  super()._check_params_vs_input(X, default_n_init=10)\n",
      "c:\\Python38\\lib\\site-packages\\sklearn\\cluster\\_kmeans.py:1416: FutureWarning: The default value of `n_init` will change from 10 to 'auto' in 1.4. Set the value of `n_init` explicitly to suppress the warning\n",
      "  super()._check_params_vs_input(X, default_n_init=10)\n",
      "c:\\Python38\\lib\\site-packages\\sklearn\\cluster\\_kmeans.py:1416: FutureWarning: The default value of `n_init` will change from 10 to 'auto' in 1.4. Set the value of `n_init` explicitly to suppress the warning\n",
      "  super()._check_params_vs_input(X, default_n_init=10)\n",
      "c:\\Python38\\lib\\site-packages\\sklearn\\cluster\\_kmeans.py:1416: FutureWarning: The default value of `n_init` will change from 10 to 'auto' in 1.4. Set the value of `n_init` explicitly to suppress the warning\n",
      "  super()._check_params_vs_input(X, default_n_init=10)\n",
      "c:\\Python38\\lib\\site-packages\\sklearn\\cluster\\_kmeans.py:1416: FutureWarning: The default value of `n_init` will change from 10 to 'auto' in 1.4. Set the value of `n_init` explicitly to suppress the warning\n",
      "  super()._check_params_vs_input(X, default_n_init=10)\n",
      "c:\\Python38\\lib\\site-packages\\sklearn\\cluster\\_kmeans.py:1416: FutureWarning: The default value of `n_init` will change from 10 to 'auto' in 1.4. Set the value of `n_init` explicitly to suppress the warning\n",
      "  super()._check_params_vs_input(X, default_n_init=10)\n",
      "c:\\Python38\\lib\\site-packages\\sklearn\\cluster\\_kmeans.py:1416: FutureWarning: The default value of `n_init` will change from 10 to 'auto' in 1.4. Set the value of `n_init` explicitly to suppress the warning\n",
      "  super()._check_params_vs_input(X, default_n_init=10)\n",
      "c:\\Python38\\lib\\site-packages\\sklearn\\cluster\\_kmeans.py:1416: FutureWarning: The default value of `n_init` will change from 10 to 'auto' in 1.4. Set the value of `n_init` explicitly to suppress the warning\n",
      "  super()._check_params_vs_input(X, default_n_init=10)\n",
      "c:\\Python38\\lib\\site-packages\\sklearn\\cluster\\_kmeans.py:1416: FutureWarning: The default value of `n_init` will change from 10 to 'auto' in 1.4. Set the value of `n_init` explicitly to suppress the warning\n",
      "  super()._check_params_vs_input(X, default_n_init=10)\n",
      "c:\\Python38\\lib\\site-packages\\sklearn\\cluster\\_kmeans.py:1416: FutureWarning: The default value of `n_init` will change from 10 to 'auto' in 1.4. Set the value of `n_init` explicitly to suppress the warning\n",
      "  super()._check_params_vs_input(X, default_n_init=10)\n",
      "c:\\Python38\\lib\\site-packages\\sklearn\\cluster\\_kmeans.py:1416: FutureWarning: The default value of `n_init` will change from 10 to 'auto' in 1.4. Set the value of `n_init` explicitly to suppress the warning\n",
      "  super()._check_params_vs_input(X, default_n_init=10)\n",
      "c:\\Python38\\lib\\site-packages\\sklearn\\cluster\\_kmeans.py:1416: FutureWarning: The default value of `n_init` will change from 10 to 'auto' in 1.4. Set the value of `n_init` explicitly to suppress the warning\n",
      "  super()._check_params_vs_input(X, default_n_init=10)\n",
      "c:\\Python38\\lib\\site-packages\\sklearn\\cluster\\_kmeans.py:1416: FutureWarning: The default value of `n_init` will change from 10 to 'auto' in 1.4. Set the value of `n_init` explicitly to suppress the warning\n",
      "  super()._check_params_vs_input(X, default_n_init=10)\n",
      "c:\\Python38\\lib\\site-packages\\sklearn\\cluster\\_kmeans.py:1416: FutureWarning: The default value of `n_init` will change from 10 to 'auto' in 1.4. Set the value of `n_init` explicitly to suppress the warning\n",
      "  super()._check_params_vs_input(X, default_n_init=10)\n",
      "c:\\Python38\\lib\\site-packages\\sklearn\\cluster\\_kmeans.py:1416: FutureWarning: The default value of `n_init` will change from 10 to 'auto' in 1.4. Set the value of `n_init` explicitly to suppress the warning\n",
      "  super()._check_params_vs_input(X, default_n_init=10)\n",
      "c:\\Python38\\lib\\site-packages\\sklearn\\cluster\\_kmeans.py:1416: FutureWarning: The default value of `n_init` will change from 10 to 'auto' in 1.4. Set the value of `n_init` explicitly to suppress the warning\n",
      "  super()._check_params_vs_input(X, default_n_init=10)\n",
      "c:\\Python38\\lib\\site-packages\\sklearn\\cluster\\_kmeans.py:1416: FutureWarning: The default value of `n_init` will change from 10 to 'auto' in 1.4. Set the value of `n_init` explicitly to suppress the warning\n",
      "  super()._check_params_vs_input(X, default_n_init=10)\n",
      "c:\\Python38\\lib\\site-packages\\sklearn\\cluster\\_kmeans.py:1416: FutureWarning: The default value of `n_init` will change from 10 to 'auto' in 1.4. Set the value of `n_init` explicitly to suppress the warning\n",
      "  super()._check_params_vs_input(X, default_n_init=10)\n",
      "c:\\Python38\\lib\\site-packages\\sklearn\\cluster\\_kmeans.py:1416: FutureWarning: The default value of `n_init` will change from 10 to 'auto' in 1.4. Set the value of `n_init` explicitly to suppress the warning\n",
      "  super()._check_params_vs_input(X, default_n_init=10)\n",
      "c:\\Python38\\lib\\site-packages\\sklearn\\cluster\\_kmeans.py:1416: FutureWarning: The default value of `n_init` will change from 10 to 'auto' in 1.4. Set the value of `n_init` explicitly to suppress the warning\n",
      "  super()._check_params_vs_input(X, default_n_init=10)\n",
      "<ipython-input-21-5d1b527678fa>:18: SettingWithCopyWarning: \n",
      "A value is trying to be set on a copy of a slice from a DataFrame.\n",
      "Try using .loc[row_indexer,col_indexer] = value instead\n",
      "\n",
      "See the caveats in the documentation: https://pandas.pydata.org/pandas-docs/stable/user_guide/indexing.html#returning-a-view-versus-a-copy\n",
      "  df['Cluster'] = kmeans.fit_predict(tfidf_matrix)\n"
     ]
    },
    {
     "data": {
      "image/png": "[encoded data removed]",
      "text/plain": [
       "<Figure size 720x432 with 2 Axes>"
      ]
     },
     "metadata": {
      "needs_background": "light"
     },
     "output_type": "display_data"
    }
   ],
   "source": [
    "from sklearn.feature_extraction.text import TfidfVectorizer\n",
    "from sklearn.metrics import silhouette_score\n",
    "\n",
    "df = books[books[\"rating_count\"] > 50]\n",
    "\n",
    "df['Text'] = df['Title'] + \" by \" + df['Author'] + 'published by' + df['Publisher']\n",
    "tfidf_vectorizer = TfidfVectorizer(max_features=2000, stop_words='english')\n",
    "tfidf_matrix = tfidf_vectorizer.fit_transform(df['Text'])\n",
    "\n",
    "silhouette_scores = []\n",
    "for k in range(1, 20):\n",
    "    kmeans = KMeans(n_clusters=k*5, random_state=42)\n",
    "    cluster_labels = kmeans.fit_predict(tfidf_matrix)\n",
    "    silhouette_scores.append(silhouette_score(tfidf_matrix, cluster_labels))\n",
    "\n",
    "optimal_k = 5*(silhouette_scores.index(max(silhouette_scores))+1)\n",
    "kmeans = KMeans(n_clusters=optimal_k, random_state=42)\n",
    "df['Cluster'] = kmeans.fit_predict(tfidf_matrix)\n",
    "\n",
    "pca = PCA(n_components=2)\n",
    "tfidf_matrix_pca = pca.fit_transform(tfidf_matrix.toarray())\n",
    "\n",
    "plt.figure(figsize=(10, 6))\n",
    "plt.scatter(tfidf_matrix_pca[:, 0], tfidf_matrix_pca[:, 1], c=cluster_labels)\n",
    "plt.title('K-means Clustering of Books (PCA)')\n",
    "plt.xlabel('PCA Component 1')\n",
    "plt.ylabel('PCA Component 2')\n",
    "plt.colorbar(label='Cluster')\n",
    "plt.show()"
   ]
  },
  {
   "cell_type": "code",
   "execution_count": 22,
   "metadata": {},
   "outputs": [],
   "source": [
    "from sklearn.preprocessing import StandardScaler\n",
    "\n",
    "# One-hot encodes all data instead of trying to use vector embeddings\n",
    "new_df = books[books[\"rating_count\"] > 50].drop_duplicates()\n",
    "# df['Title'].value_counts()\n",
    "# df['Author'].value_counts()\n",
    "# df['Publisher'].value_counts()\n",
    "df_encoded = pd.get_dummies(new_df, columns=['Title', 'Author', 'Publisher'])\n",
    "X1 = df_encoded.drop(columns=[\"ISBN\", 'rating_count']) # all numerical data input\n",
    "X2 = StandardScaler().fit_transform(X1) # data input as standardized\n",
    "gmm = GaussianMixture(n_components=10, random_state=777, covariance_type='diag').fit(X2)"
   ]
  },
  {
   "cell_type": "code",
   "execution_count": 23,
   "metadata": {},
   "outputs": [
    {
     "data": {
      "image/png": "[encoded data removed]",
      "text/plain": [
       "<Figure size 720x432 with 2 Axes>"
      ]
     },
     "metadata": {
      "needs_background": "light"
     },
     "output_type": "display_data"
    }
   ],
   "source": [
    "# Predict the cluster for each data point\n",
    "Y_gmm = gmm.predict(X2)\n",
    "\n",
    "# Visualize the clusters\n",
    "plt.figure(figsize=(10, 6))\n",
    "plt.scatter(X2[:, 0], X2[:, 1], c=Y_gmm, s=50)\n",
    "\n",
    "plt.title('Gaussian Mixture Model Clustering of Books (GMM)')\n",
    "plt.xlabel('Feature 1')\n",
    "plt.ylabel('Feature 2')\n",
    "plt.colorbar(label='Cluster')\n",
    "plt.show()"
   ]
  },
  {
   "cell_type": "code",
   "execution_count": 24,
   "metadata": {},
   "outputs": [
    {
     "name": "stdout",
     "output_type": "stream",
     "text": [
      "(42543, 2101)\n",
      "(42543, 2101)\n"
     ]
    }
   ],
   "source": [
    "# Create a pivot table from book_matrix, turning the observations into 'UserID' and features into 'ISBN'\n",
    "# With 'Rating' being the values in the matrix\n",
    "book_matrix_pivot = book_matrix.pivot_table(index='UserID', columns='ISBN', values='Rating').fillna(0)\n",
    "\n",
    "# Turn the pivot table into a compressed matrix to make it more efficient and less demanding to run\n",
    "sparse_book_matrix = csr_matrix(book_matrix_pivot.values)\n",
    "\n",
    "# Print the shape of the matrices to ensure the dimensions match\n",
    "print(book_matrix_pivot.shape)\n",
    "print(sparse_book_matrix.shape)"
   ]
  },
  {
   "cell_type": "code",
   "execution_count": 25,
   "metadata": {},
   "outputs": [
    {
     "name": "stdout",
     "output_type": "stream",
     "text": [
      "['039914370X', '3404146956', '3453021959', '3453023757', '3453210719']\n"
     ]
    }
   ],
   "source": [
    "# Compute the cosine similarity matrix\n",
    "user_similarity = cosine_similarity(sparse_book_matrix)\n",
    "\n",
    "# Get the user IDs\n",
    "user_ids = book_matrix_pivot.index\n",
    "\n",
    "# Convert the cosine similarity matrix into a dataset\n",
    "user_similarity_df = pd.DataFrame(user_similarity, index=user_ids, columns=user_ids)\n",
    "\n",
    "# Define collaborative filtering system\n",
    "def book_recommendation(user_id, n_books):\n",
    "    # Get the similarity scores for the user\n",
    "    similarity_scores = user_similarity_df[user_id]\n",
    "    \n",
    "    # Sort the scores in descending order\n",
    "    sorted_scores = similarity_scores.sort_values(ascending=False)\n",
    "    \n",
    "    # Find the top n most similar users\n",
    "    top_users = sorted_scores[1:n_books+1].index\n",
    "    \n",
    "    # Get the books rated by these users\n",
    "    top_books = ratings[ratings['UserID'].isin(top_users)]['ISBN'].unique()\n",
    "    \n",
    "    # Exclude the books already rated by the user\n",
    "    recommended_books = [book for book in top_books if book not in ratings[ratings['UserID'] == user_id]['ISBN'].values]\n",
    "    \n",
    "    return recommended_books[:n_books]\n",
    "\n",
    "print(book_recommendation(276704, 5))"
   ]
  },
  {
   "cell_type": "code",
   "execution_count": null,
   "metadata": {},
   "outputs": [],
   "source": []
  }
 ],
 "metadata": {
  "kernelspec": {
   "display_name": "Python 3",
   "language": "python",
   "name": "python3"
  },
  "language_info": {
   "codemirror_mode": {
    "name": "ipython",
    "version": 3
   },
   "file_extension": ".py",
   "mimetype": "text/x-python",
   "name": "python",
   "nbconvert_exporter": "python",
   "pygments_lexer": "ipython3",
   "version": "3.8.3"
  }
 },
 "nbformat": 4,
 "nbformat_minor": 2
}
