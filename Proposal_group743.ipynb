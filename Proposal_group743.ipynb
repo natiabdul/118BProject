{
 "cells": [
  {
   "cell_type": "markdown",
   "metadata": {},
   "source": [
    "# COGS 118B - Project Proposal"
   ]
  },
  {
   "cell_type": "markdown",
   "metadata": {},
   "source": [
    "# Names\n",
    "\n",
    "- Natalia Abdulmawla\n",
    "- Aarya Patel\n",
    "- Brian Lee\n",
    "- Holden Ly\n",
    "- "
   ]
  },
  {
   "cell_type": "markdown",
   "metadata": {},
   "source": [
    "# Abstract \n",
    "The goal of our project is to explore the book-crossing dataset and build a recommendation system for books based on the dataset. The dataset contains 8 different features with 1,149,780 ratings of 271,379 books measured on a scale of 1 to 10 by 278,858 people. To build the system we will be using methods such as k-means clustering and principal component analysis to find underlying patterns within the data allowing us to  cluster the people and books based on the ratings and other features and using PCA to reduce the large dimensionality of the dataset and better visualize the clusters. Subsequently we will evaluate the performance of our recommendation system using metrics such as precision and recall. Through this project we aim to demonstrate how the books and given features can be used to provide personalized book recommendations based on a person's interests."
   ]
  },
  {
   "cell_type": "markdown",
   "metadata": {},
   "source": [
    "# Background\n",
    "\n",
    "A recommendation system is a type of algorithm meant to provide personalized suggestions to a person based on their preferences within a certain context. These have long been of value in a variety of fields, particularly given the rise of e-commerce and online entertainment due to the value that comes from these systems for user experience <a name=\"rs\"></a>[<sup>[2]</sup>](#rsnote). \n",
    "\n",
    "These systems can be used to filter out items which are not relevant to someone while recommending things that they may be interested in. This improvement to user experience can lead to better user satisfaction while increasing revenue to those providing the products <a name=\"icwww\"></a>[<sup>[3]</sup>](#icwwwnote). It's for these reasons that recommendation systems have been the subject of research to improve the performance and accuracy of the systems to provide a better user experience <a name=\"bx\"></a>[<sup>[1]</sup>](#bxnote).\n",
    "\n",
    "Through our project we seek to explore our chosen dataset and build a type of recommendation systems based on the dataset so we may better understand the inner workings and intricacies of recommendation systems and how they are applied within the real world. To do this we will be building it within the context of books. We will use the unsupervised machine learning techniques on the features of our chosen dataset to find patterns within the data and make recommendations, such as using the ratings of a reviewer who has similar preferences to a target to suggest books that they may potentially enjoy reading. In doing so we hope to demonstrate how books can be used to understand recommendation systems and the techniques used in building them and their real world applications.\n"
   ]
  },
  {
   "cell_type": "markdown",
   "metadata": {},
   "source": [
    "# Problem Statement\n",
    "\n",
    "The problem that we are trying to solve is to develop a personalized book recommendation system using multiple machine learning algorithms to help us find a solution. The goal here is to employ K-means to group similar users and books together based on their ratings and additional features. PCA is utilized by lowering the dimensionality of the dataset, while preserving the variance. This reduction can output better visualizations of the clusters and give a better insight and understanding of the structure. The problem is quantifiable as it involves the clustering of users and books, which can be represented mathematically through the use of precision and recall. This will quantify the system’s ability to accurately recommend books. We will set a random seed for reproducibility to ensure that the same results can be achieved. This will make the problem replicable with the use of K-means clustering and PCA because you can use these methods on other similar datasets, or with variations in parameters."
   ]
  },
  {
   "cell_type": "markdown",
   "metadata": {},
   "source": [
    "# Data\n",
    "\n",
    "Link: https://web.archive.org/web/20200511092532/http://www2.informatik.uni-freiburg.de/~cziegler/BX/\n",
    "\n",
    "Data Descriptions: \n",
    "- Books.csv \n",
    "\n",
    "    271379 x 5\n",
    "\n",
    "    Columns contain ISBN values of books (268030 of which are unique), respective title, author, year, and publisher\n",
    "\n",
    "- Ratings.csv \n",
    "\n",
    "    1149779 x 3 \n",
    "\n",
    "    Columns contain user id of rater, ISBN value of book being rated, and rating in stars from 0-10\n",
    "\n",
    "- Users.csv \n",
    "\n",
    "    278859 x 3\n",
    "\n",
    "    Columns contain user id (in ascending order), location, and respective age (if given)\n",
    "\n",
    "A singular observation will probably be comprised of a book ISBN, user id, user age, title, year, author, publisher, and rating. Data cleaning will be necessary to get rid of observations with NaNs in addition to transforming categorical data into quantitative values (one such example could be running a semantic embedding model on titles to extract thematic similarities). One hot encoding will be necessary for the ratings as well.\n"
   ]
  },
  {
   "cell_type": "markdown",
   "metadata": {},
   "source": [
    "# Proposed Solution\n",
    "\n",
    "For our initial step, we will clean and tidy the dataset by handling missing values and normalizing the variables. We will then apply K-means to group similar users and books together based on their ratings. This will minimize the within-cluster sum of squares, with each cluster representing a group of users or books with similar preferences. Once the clusters are formed and the dimensionality is reduced by PCA, we will generate recommendations that fit similar tastes and personalized recommendations. To evaluate the recommendation system, we will split the dataset into training and testing sets. Precision measures the proportion of recommended items that are relevant to the user while recall measures the proportion of relevant items that are successfully recommended. We will also employ a cross validation technique to ensure the robustness of our results. We plan to use Python with libraries such as Sci-Kit for K means clustering and PCA, Pandas for data preprocessing, and Numpy for mathematical computations."
   ]
  },
  {
   "cell_type": "markdown",
   "metadata": {},
   "source": [
    "# Evaluation Metrics\n",
    "\n",
    "Given the nature of the problem statement, a real-world evaluation metric would be some QA system in which people rate the recommendations given by the model. However, this is not possible in the current situation so a possible replacement metric would be to quantify the strength of separations between recommendations (how definitive the model is in terms of creating different cluster groups). One such possible quantifier for this would be to calculate a mean silhouette score.   “The Silhouette Coefficient is calculated using the mean intra-cluster distance (a) and the mean nearest-cluster distance (b) for each sample. The Silhouette Coefficient for a sample is (b - a) / max(a, b). To clarify, b is the distance between a sample and the nearest cluster that the sample is not a part of. Note that the Silhouette Coefficient is only defined if the number of labels is 2 <= n_labels <= n_samples - 1.” Then take the mean over all samples."
   ]
  },
  {
   "cell_type": "markdown",
   "metadata": {},
   "source": [
    "# Ethics & Privacy"
   ]
  },
  {
   "cell_type": "markdown",
   "metadata": {},
   "source": [
    "One ethical concern is that this model might not necessarily promote equity. For example, if the underlying data doesn’t have much diversity amongst authors listed, then the recommended novels won’t have much diverse representation either. In the context of real-world application, this could result in ethical issues of the project not promoting DEI to potential users. Additionally, given the anonymity of users who wrote ratings for the books, we do not have much information on potential biases that exist within the ratings themselves or have enough knowledge to explain potential biases that might show up in model results.\n",
    "\n",
    "- Two potential solutions:\n",
    "\n",
    "    Get data from sources who do account for this within their book ratings or\n",
    "\n",
    "    Give a clearly stated explanation that this model does not take into account racial backgrounds of authors/raters/book characters and if such biases were presented than that would be more likely a result of the lack of equity in underlying data which could not be replaced by better suited data.\n"
   ]
  },
  {
   "cell_type": "markdown",
   "metadata": {},
   "source": [
    "# Team Expectations "
   ]
  },
  {
   "cell_type": "markdown",
   "metadata": {},
   "source": [
    "- Communication regularly and openly amongst one another through the preferred communication method\n",
    "\n",
    "- Update one another regularly on progress, questions, and constructive feedback.\n",
    "\n",
    "- Collaborate and cooperate with one another listening openingly and helpfully.\n",
    "\n",
    "- Contribute to the project and follow agreed upon roles.\n",
    "\n",
    "- Respect and support one another and their contributions.\n"
   ]
  },
  {
   "cell_type": "markdown",
   "metadata": {},
   "source": [
    "# Project Timeline Proposal"
   ]
  },
  {
   "cell_type": "markdown",
   "metadata": {},
   "source": [
    "- Clean and organize data - week 1\n",
    "\n",
    "- Exploratory data analysis - week 1\n",
    "\n",
    "- Organize and delegate group work accordingly amongst team members - week 1\n",
    "\n",
    "- Discuss and edit the assigned project code - week 2\n",
    "\n",
    "- Discuss and edit project analysis collaboratively - week 2\n",
    "\n",
    "- Draft analysis results and conclusion - week 3\n",
    "\n",
    "- Collaboratively complete the drafted findings to turn in - week 3\n"
   ]
  },
  {
   "cell_type": "markdown",
   "metadata": {},
   "source": [
    "# Footnotes\n",
    "<a name=\"bxnote\"></a>1.[^](#bx): Ziegler, C. (Aug 2004) Book-Crossing Dataset *Institut für Informatik, Universität Freiburg* https://web.archive.org/web/20200511092532/http://www2.informatik.uni-freiburg.de/~cziegler/BX/<br>\n",
    "\n",
    "<a name=”rsnote”></a>2.[^](#rs): Marcuzzo, M., et al. (28 Jul 2022) Recommendation Systems: An Insight Into Current Development and Future Research Challenges *IEEE Access* https://ieeexplore.ieee.org/document/9843966<br>\n",
    "\n",
    "<a name=”icwwwnote”></a>3.[^](#icwww): Ziegler, C., et al. (May 2005) Improving Recommendation Lists Through Topic Diversification *IWC32* doi:10.1145/1060745.1060754<br>\n",
    "\n",
    "<a name=”pwc”></a>4.[^](#pwc): Recommendation Systems *Papers With Code* https://paperswithcode.com/task/recommendation-systems<br>\n",
    "\n",
    "<a name=”kgnote”></a>5.[^](#kg): Book-Crossing Dataset https://www.kaggle.com/datasets/somnambwl/bookcrossing-dataset/data<br>\n"
   ]
  },
  {
   "cell_type": "markdown",
   "metadata": {},
   "source": []
  }
 ],
 "metadata": {
  "kernelspec": {
   "display_name": "Python 3 (ipykernel)",
   "language": "python",
   "name": "python3"
  },
  "language_info": {
   "codemirror_mode": {
    "name": "ipython",
    "version": 3
   },
   "file_extension": ".py",
   "mimetype": "text/x-python",
   "name": "python",
   "nbconvert_exporter": "python",
   "pygments_lexer": "ipython3",
   "version": "3.8.3"
  }
 },
 "nbformat": 4,
 "nbformat_minor": 2
}
